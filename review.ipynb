{
 "cells": [
  {
   "cell_type": "code",
   "execution_count": 1,
   "metadata": {},
   "outputs": [],
   "source": [
    "import numpy as np\n",
    "import pandas as pd\n",
    "import matplotlib.pyplot as plt\n",
    "import seaborn as sns\n",
    "from sklearn.preprocessing import StandardScaler\n",
    "from sklearn.linear_model import LogisticRegression\n",
    "from sklearn.tree import DecisionTreeClassifier\n",
    "from sklearn.model_selection import train_test_split, GridSearchCV, cross_val_score\n",
    "from sklearn.metrics import *\n",
    "import scikitplot as skplt"
   ]
  },
  {
   "cell_type": "code",
   "execution_count": 2,
   "metadata": {},
   "outputs": [],
   "source": [
    "data=pd.read_csv(\"default.csv\")"
   ]
  },
  {
   "cell_type": "code",
   "execution_count": 3,
   "metadata": {},
   "outputs": [
    {
     "data": {
      "text/html": [
       "<div>\n",
       "<style scoped>\n",
       "    .dataframe tbody tr th:only-of-type {\n",
       "        vertical-align: middle;\n",
       "    }\n",
       "\n",
       "    .dataframe tbody tr th {\n",
       "        vertical-align: top;\n",
       "    }\n",
       "\n",
       "    .dataframe thead th {\n",
       "        text-align: right;\n",
       "    }\n",
       "</style>\n",
       "<table border=\"1\" class=\"dataframe\">\n",
       "  <thead>\n",
       "    <tr style=\"text-align: right;\">\n",
       "      <th></th>\n",
       "      <th>default</th>\n",
       "      <th>account_check_status</th>\n",
       "      <th>duration_in_month</th>\n",
       "      <th>credit_history</th>\n",
       "      <th>purpose</th>\n",
       "      <th>credit_amount</th>\n",
       "      <th>savings</th>\n",
       "      <th>present_emp_since</th>\n",
       "      <th>installment_as_income_perc</th>\n",
       "      <th>personal_status_sex</th>\n",
       "      <th>...</th>\n",
       "      <th>present_res_since</th>\n",
       "      <th>property</th>\n",
       "      <th>age</th>\n",
       "      <th>other_installment_plans</th>\n",
       "      <th>housing</th>\n",
       "      <th>credits_this_bank</th>\n",
       "      <th>job</th>\n",
       "      <th>people_under_maintenance</th>\n",
       "      <th>telephone</th>\n",
       "      <th>foreign_worker</th>\n",
       "    </tr>\n",
       "  </thead>\n",
       "  <tbody>\n",
       "    <tr>\n",
       "      <td>0</td>\n",
       "      <td>0</td>\n",
       "      <td>&lt; 0 DM</td>\n",
       "      <td>6</td>\n",
       "      <td>critical account/ other credits existing (not ...</td>\n",
       "      <td>domestic appliances</td>\n",
       "      <td>1169</td>\n",
       "      <td>unknown/ no savings account</td>\n",
       "      <td>.. &gt;= 7 years</td>\n",
       "      <td>4</td>\n",
       "      <td>male : single</td>\n",
       "      <td>...</td>\n",
       "      <td>4</td>\n",
       "      <td>real estate</td>\n",
       "      <td>67</td>\n",
       "      <td>none</td>\n",
       "      <td>own</td>\n",
       "      <td>2</td>\n",
       "      <td>skilled employee / official</td>\n",
       "      <td>1</td>\n",
       "      <td>yes, registered under the customers name</td>\n",
       "      <td>yes</td>\n",
       "    </tr>\n",
       "    <tr>\n",
       "      <td>1</td>\n",
       "      <td>1</td>\n",
       "      <td>0 &lt;= ... &lt; 200 DM</td>\n",
       "      <td>48</td>\n",
       "      <td>existing credits paid back duly till now</td>\n",
       "      <td>domestic appliances</td>\n",
       "      <td>5951</td>\n",
       "      <td>... &lt; 100 DM</td>\n",
       "      <td>1 &lt;= ... &lt; 4 years</td>\n",
       "      <td>2</td>\n",
       "      <td>female : divorced/separated/married</td>\n",
       "      <td>...</td>\n",
       "      <td>2</td>\n",
       "      <td>real estate</td>\n",
       "      <td>22</td>\n",
       "      <td>none</td>\n",
       "      <td>own</td>\n",
       "      <td>1</td>\n",
       "      <td>skilled employee / official</td>\n",
       "      <td>1</td>\n",
       "      <td>none</td>\n",
       "      <td>yes</td>\n",
       "    </tr>\n",
       "    <tr>\n",
       "      <td>2</td>\n",
       "      <td>0</td>\n",
       "      <td>no checking account</td>\n",
       "      <td>12</td>\n",
       "      <td>critical account/ other credits existing (not ...</td>\n",
       "      <td>(vacation - does not exist?)</td>\n",
       "      <td>2096</td>\n",
       "      <td>... &lt; 100 DM</td>\n",
       "      <td>4 &lt;= ... &lt; 7 years</td>\n",
       "      <td>2</td>\n",
       "      <td>male : single</td>\n",
       "      <td>...</td>\n",
       "      <td>3</td>\n",
       "      <td>real estate</td>\n",
       "      <td>49</td>\n",
       "      <td>none</td>\n",
       "      <td>own</td>\n",
       "      <td>1</td>\n",
       "      <td>unskilled - resident</td>\n",
       "      <td>2</td>\n",
       "      <td>none</td>\n",
       "      <td>yes</td>\n",
       "    </tr>\n",
       "    <tr>\n",
       "      <td>3</td>\n",
       "      <td>0</td>\n",
       "      <td>&lt; 0 DM</td>\n",
       "      <td>42</td>\n",
       "      <td>existing credits paid back duly till now</td>\n",
       "      <td>radio/television</td>\n",
       "      <td>7882</td>\n",
       "      <td>... &lt; 100 DM</td>\n",
       "      <td>4 &lt;= ... &lt; 7 years</td>\n",
       "      <td>2</td>\n",
       "      <td>male : single</td>\n",
       "      <td>...</td>\n",
       "      <td>4</td>\n",
       "      <td>if not A121 : building society savings agreeme...</td>\n",
       "      <td>45</td>\n",
       "      <td>none</td>\n",
       "      <td>for free</td>\n",
       "      <td>1</td>\n",
       "      <td>skilled employee / official</td>\n",
       "      <td>2</td>\n",
       "      <td>none</td>\n",
       "      <td>yes</td>\n",
       "    </tr>\n",
       "    <tr>\n",
       "      <td>4</td>\n",
       "      <td>1</td>\n",
       "      <td>&lt; 0 DM</td>\n",
       "      <td>24</td>\n",
       "      <td>delay in paying off in the past</td>\n",
       "      <td>car (new)</td>\n",
       "      <td>4870</td>\n",
       "      <td>... &lt; 100 DM</td>\n",
       "      <td>1 &lt;= ... &lt; 4 years</td>\n",
       "      <td>3</td>\n",
       "      <td>male : single</td>\n",
       "      <td>...</td>\n",
       "      <td>4</td>\n",
       "      <td>unknown / no property</td>\n",
       "      <td>53</td>\n",
       "      <td>none</td>\n",
       "      <td>for free</td>\n",
       "      <td>2</td>\n",
       "      <td>skilled employee / official</td>\n",
       "      <td>2</td>\n",
       "      <td>none</td>\n",
       "      <td>yes</td>\n",
       "    </tr>\n",
       "  </tbody>\n",
       "</table>\n",
       "<p>5 rows × 21 columns</p>\n",
       "</div>"
      ],
      "text/plain": [
       "   default account_check_status  duration_in_month  \\\n",
       "0        0               < 0 DM                  6   \n",
       "1        1    0 <= ... < 200 DM                 48   \n",
       "2        0  no checking account                 12   \n",
       "3        0               < 0 DM                 42   \n",
       "4        1               < 0 DM                 24   \n",
       "\n",
       "                                      credit_history  \\\n",
       "0  critical account/ other credits existing (not ...   \n",
       "1           existing credits paid back duly till now   \n",
       "2  critical account/ other credits existing (not ...   \n",
       "3           existing credits paid back duly till now   \n",
       "4                    delay in paying off in the past   \n",
       "\n",
       "                        purpose  credit_amount                      savings  \\\n",
       "0           domestic appliances           1169  unknown/ no savings account   \n",
       "1           domestic appliances           5951                 ... < 100 DM   \n",
       "2  (vacation - does not exist?)           2096                 ... < 100 DM   \n",
       "3              radio/television           7882                 ... < 100 DM   \n",
       "4                     car (new)           4870                 ... < 100 DM   \n",
       "\n",
       "    present_emp_since  installment_as_income_perc  \\\n",
       "0       .. >= 7 years                           4   \n",
       "1  1 <= ... < 4 years                           2   \n",
       "2  4 <= ... < 7 years                           2   \n",
       "3  4 <= ... < 7 years                           2   \n",
       "4  1 <= ... < 4 years                           3   \n",
       "\n",
       "                   personal_status_sex  ... present_res_since  \\\n",
       "0                        male : single  ...                 4   \n",
       "1  female : divorced/separated/married  ...                 2   \n",
       "2                        male : single  ...                 3   \n",
       "3                        male : single  ...                 4   \n",
       "4                        male : single  ...                 4   \n",
       "\n",
       "                                            property age  \\\n",
       "0                                        real estate  67   \n",
       "1                                        real estate  22   \n",
       "2                                        real estate  49   \n",
       "3  if not A121 : building society savings agreeme...  45   \n",
       "4                              unknown / no property  53   \n",
       "\n",
       "   other_installment_plans   housing credits_this_bank  \\\n",
       "0                     none       own                 2   \n",
       "1                     none       own                 1   \n",
       "2                     none       own                 1   \n",
       "3                     none  for free                 1   \n",
       "4                     none  for free                 2   \n",
       "\n",
       "                           job people_under_maintenance  \\\n",
       "0  skilled employee / official                        1   \n",
       "1  skilled employee / official                        1   \n",
       "2         unskilled - resident                        2   \n",
       "3  skilled employee / official                        2   \n",
       "4  skilled employee / official                        2   \n",
       "\n",
       "                                   telephone foreign_worker  \n",
       "0  yes, registered under the customers name             yes  \n",
       "1                                       none            yes  \n",
       "2                                       none            yes  \n",
       "3                                       none            yes  \n",
       "4                                       none            yes  \n",
       "\n",
       "[5 rows x 21 columns]"
      ]
     },
     "execution_count": 3,
     "metadata": {},
     "output_type": "execute_result"
    }
   ],
   "source": [
    "data.head()"
   ]
  },
  {
   "cell_type": "code",
   "execution_count": 4,
   "metadata": {},
   "outputs": [
    {
     "name": "stdout",
     "output_type": "stream",
     "text": [
      "<class 'pandas.core.frame.DataFrame'>\n",
      "RangeIndex: 1000 entries, 0 to 999\n",
      "Data columns (total 21 columns):\n",
      "default                       1000 non-null int64\n",
      "account_check_status          1000 non-null object\n",
      "duration_in_month             1000 non-null int64\n",
      "credit_history                1000 non-null object\n",
      "purpose                       1000 non-null object\n",
      "credit_amount                 1000 non-null int64\n",
      "savings                       1000 non-null object\n",
      "present_emp_since             1000 non-null object\n",
      "installment_as_income_perc    1000 non-null int64\n",
      "personal_status_sex           1000 non-null object\n",
      "other_debtors                 1000 non-null object\n",
      "present_res_since             1000 non-null int64\n",
      "property                      1000 non-null object\n",
      "age                           1000 non-null int64\n",
      "other_installment_plans       1000 non-null object\n",
      "housing                       1000 non-null object\n",
      "credits_this_bank             1000 non-null int64\n",
      "job                           1000 non-null object\n",
      "people_under_maintenance      1000 non-null int64\n",
      "telephone                     1000 non-null object\n",
      "foreign_worker                1000 non-null object\n",
      "dtypes: int64(8), object(13)\n",
      "memory usage: 164.2+ KB\n"
     ]
    }
   ],
   "source": [
    "data.info()"
   ]
  },
  {
   "cell_type": "code",
   "execution_count": 5,
   "metadata": {},
   "outputs": [
    {
     "data": {
      "text/plain": [
       "Index(['default', 'account_check_status', 'duration_in_month',\n",
       "       'credit_history', 'purpose', 'credit_amount', 'savings',\n",
       "       'present_emp_since', 'installment_as_income_perc',\n",
       "       'personal_status_sex', 'other_debtors', 'present_res_since', 'property',\n",
       "       'age', 'other_installment_plans', 'housing', 'credits_this_bank', 'job',\n",
       "       'people_under_maintenance', 'telephone', 'foreign_worker'],\n",
       "      dtype='object')"
      ]
     },
     "execution_count": 5,
     "metadata": {},
     "output_type": "execute_result"
    }
   ],
   "source": [
    "data.columns"
   ]
  },
  {
   "cell_type": "code",
   "execution_count": 6,
   "metadata": {},
   "outputs": [
    {
     "data": {
      "text/plain": [
       "(1000, 21)"
      ]
     },
     "execution_count": 6,
     "metadata": {},
     "output_type": "execute_result"
    }
   ],
   "source": [
    "data.shape"
   ]
  },
  {
   "cell_type": "code",
   "execution_count": 7,
   "metadata": {},
   "outputs": [
    {
     "name": "stdout",
     "output_type": "stream",
     "text": [
      "Duplicates: 0\n",
      "Missing values: 0\n",
      "Single valued columns: Index([], dtype='object')\n"
     ]
    }
   ],
   "source": [
    "#checking number of duplicates, missing values and single valued columns\n",
    "print(\"Duplicates:\", data.duplicated().sum())\n",
    "print(\"Missing values:\", data.isna().sum().sum())\n",
    "print(\"Single valued columns:\", data.columns[data.nunique()==1])"
   ]
  },
  {
   "cell_type": "code",
   "execution_count": 8,
   "metadata": {},
   "outputs": [
    {
     "data": {
      "text/html": [
       "<div>\n",
       "<style scoped>\n",
       "    .dataframe tbody tr th:only-of-type {\n",
       "        vertical-align: middle;\n",
       "    }\n",
       "\n",
       "    .dataframe tbody tr th {\n",
       "        vertical-align: top;\n",
       "    }\n",
       "\n",
       "    .dataframe thead th {\n",
       "        text-align: right;\n",
       "    }\n",
       "</style>\n",
       "<table border=\"1\" class=\"dataframe\">\n",
       "  <thead>\n",
       "    <tr style=\"text-align: right;\">\n",
       "      <th></th>\n",
       "      <th>default</th>\n",
       "      <th>duration_in_month</th>\n",
       "      <th>credit_amount</th>\n",
       "      <th>installment_as_income_perc</th>\n",
       "      <th>present_res_since</th>\n",
       "      <th>age</th>\n",
       "      <th>credits_this_bank</th>\n",
       "      <th>people_under_maintenance</th>\n",
       "    </tr>\n",
       "  </thead>\n",
       "  <tbody>\n",
       "    <tr>\n",
       "      <td>count</td>\n",
       "      <td>1000.000000</td>\n",
       "      <td>1000.000000</td>\n",
       "      <td>1000.000000</td>\n",
       "      <td>1000.000000</td>\n",
       "      <td>1000.000000</td>\n",
       "      <td>1000.000000</td>\n",
       "      <td>1000.000000</td>\n",
       "      <td>1000.000000</td>\n",
       "    </tr>\n",
       "    <tr>\n",
       "      <td>mean</td>\n",
       "      <td>0.300000</td>\n",
       "      <td>20.903000</td>\n",
       "      <td>3271.258000</td>\n",
       "      <td>2.973000</td>\n",
       "      <td>2.845000</td>\n",
       "      <td>35.546000</td>\n",
       "      <td>1.407000</td>\n",
       "      <td>1.155000</td>\n",
       "    </tr>\n",
       "    <tr>\n",
       "      <td>std</td>\n",
       "      <td>0.458487</td>\n",
       "      <td>12.058814</td>\n",
       "      <td>2822.736876</td>\n",
       "      <td>1.118715</td>\n",
       "      <td>1.103718</td>\n",
       "      <td>11.375469</td>\n",
       "      <td>0.577654</td>\n",
       "      <td>0.362086</td>\n",
       "    </tr>\n",
       "    <tr>\n",
       "      <td>min</td>\n",
       "      <td>0.000000</td>\n",
       "      <td>4.000000</td>\n",
       "      <td>250.000000</td>\n",
       "      <td>1.000000</td>\n",
       "      <td>1.000000</td>\n",
       "      <td>19.000000</td>\n",
       "      <td>1.000000</td>\n",
       "      <td>1.000000</td>\n",
       "    </tr>\n",
       "    <tr>\n",
       "      <td>25%</td>\n",
       "      <td>0.000000</td>\n",
       "      <td>12.000000</td>\n",
       "      <td>1365.500000</td>\n",
       "      <td>2.000000</td>\n",
       "      <td>2.000000</td>\n",
       "      <td>27.000000</td>\n",
       "      <td>1.000000</td>\n",
       "      <td>1.000000</td>\n",
       "    </tr>\n",
       "    <tr>\n",
       "      <td>50%</td>\n",
       "      <td>0.000000</td>\n",
       "      <td>18.000000</td>\n",
       "      <td>2319.500000</td>\n",
       "      <td>3.000000</td>\n",
       "      <td>3.000000</td>\n",
       "      <td>33.000000</td>\n",
       "      <td>1.000000</td>\n",
       "      <td>1.000000</td>\n",
       "    </tr>\n",
       "    <tr>\n",
       "      <td>75%</td>\n",
       "      <td>1.000000</td>\n",
       "      <td>24.000000</td>\n",
       "      <td>3972.250000</td>\n",
       "      <td>4.000000</td>\n",
       "      <td>4.000000</td>\n",
       "      <td>42.000000</td>\n",
       "      <td>2.000000</td>\n",
       "      <td>1.000000</td>\n",
       "    </tr>\n",
       "    <tr>\n",
       "      <td>max</td>\n",
       "      <td>1.000000</td>\n",
       "      <td>72.000000</td>\n",
       "      <td>18424.000000</td>\n",
       "      <td>4.000000</td>\n",
       "      <td>4.000000</td>\n",
       "      <td>75.000000</td>\n",
       "      <td>4.000000</td>\n",
       "      <td>2.000000</td>\n",
       "    </tr>\n",
       "  </tbody>\n",
       "</table>\n",
       "</div>"
      ],
      "text/plain": [
       "           default  duration_in_month  credit_amount  \\\n",
       "count  1000.000000        1000.000000    1000.000000   \n",
       "mean      0.300000          20.903000    3271.258000   \n",
       "std       0.458487          12.058814    2822.736876   \n",
       "min       0.000000           4.000000     250.000000   \n",
       "25%       0.000000          12.000000    1365.500000   \n",
       "50%       0.000000          18.000000    2319.500000   \n",
       "75%       1.000000          24.000000    3972.250000   \n",
       "max       1.000000          72.000000   18424.000000   \n",
       "\n",
       "       installment_as_income_perc  present_res_since          age  \\\n",
       "count                 1000.000000        1000.000000  1000.000000   \n",
       "mean                     2.973000           2.845000    35.546000   \n",
       "std                      1.118715           1.103718    11.375469   \n",
       "min                      1.000000           1.000000    19.000000   \n",
       "25%                      2.000000           2.000000    27.000000   \n",
       "50%                      3.000000           3.000000    33.000000   \n",
       "75%                      4.000000           4.000000    42.000000   \n",
       "max                      4.000000           4.000000    75.000000   \n",
       "\n",
       "       credits_this_bank  people_under_maintenance  \n",
       "count        1000.000000               1000.000000  \n",
       "mean            1.407000                  1.155000  \n",
       "std             0.577654                  0.362086  \n",
       "min             1.000000                  1.000000  \n",
       "25%             1.000000                  1.000000  \n",
       "50%             1.000000                  1.000000  \n",
       "75%             2.000000                  1.000000  \n",
       "max             4.000000                  2.000000  "
      ]
     },
     "execution_count": 8,
     "metadata": {},
     "output_type": "execute_result"
    }
   ],
   "source": [
    "data.describe()"
   ]
  },
  {
   "cell_type": "code",
   "execution_count": 9,
   "metadata": {},
   "outputs": [
    {
     "data": {
      "text/plain": [
       "0    70.0\n",
       "1    30.0\n",
       "Name: default, dtype: float64"
      ]
     },
     "execution_count": 9,
     "metadata": {},
     "output_type": "execute_result"
    }
   ],
   "source": [
    "data.default.value_counts(normalize=True)*100"
   ]
  },
  {
   "cell_type": "code",
   "execution_count": 10,
   "metadata": {},
   "outputs": [
    {
     "data": {
      "text/plain": [
       "0"
      ]
     },
     "execution_count": 10,
     "metadata": {},
     "output_type": "execute_result"
    }
   ],
   "source": [
    "data.savings.isna().sum()"
   ]
  },
  {
   "cell_type": "code",
   "execution_count": 11,
   "metadata": {},
   "outputs": [
    {
     "data": {
      "text/plain": [
       "0    64.948454\n",
       "1    35.051546\n",
       "Name: default, dtype: float64"
      ]
     },
     "execution_count": 11,
     "metadata": {},
     "output_type": "execute_result"
    }
   ],
   "source": [
    "data[data['purpose']=='business']['default'].value_counts(normalize=True)*100"
   ]
  },
  {
   "cell_type": "code",
   "execution_count": 12,
   "metadata": {},
   "outputs": [
    {
     "data": {
      "image/png": "[encoded data removed]",
      "text/plain": [
       "<Figure size 864x576 with 1 Axes>"
      ]
     },
     "metadata": {
      "needs_background": "light"
     },
     "output_type": "display_data"
    }
   ],
   "source": [
    "plt.figure(figsize=(12,8))\n",
    "sns.distplot(data.credit_amount)\n",
    "plt.title(\"Credit Amount\")\n",
    "plt.savefig(\"Credit_Amount.jpg\")\n",
    "plt.show()"
   ]
  },
  {
   "cell_type": "code",
   "execution_count": 13,
   "metadata": {},
   "outputs": [
    {
     "data": {
      "image/png": "[encoded data removed]",
      "text/plain": [
       "<Figure size 864x576 with 1 Axes>"
      ]
     },
     "metadata": {
      "needs_background": "light"
     },
     "output_type": "display_data"
    }
   ],
   "source": [
    "plt.figure(figsize=(12,8))\n",
    "sns.distplot(np.log(data.credit_amount))\n",
    "plt.title(\"Credit Amount\")\n",
    "plt.show()"
   ]
  },
  {
   "cell_type": "code",
   "execution_count": 14,
   "metadata": {},
   "outputs": [
    {
     "data": {
      "image/png": "[encoded data removed]",
      "text/plain": [
       "<Figure size 432x288 with 1 Axes>"
      ]
     },
     "metadata": {
      "needs_background": "light"
     },
     "output_type": "display_data"
    }
   ],
   "source": [
    "sns.distplot(data.duration_in_month)\n",
    "plt.show()"
   ]
  },
  {
   "cell_type": "code",
   "execution_count": 15,
   "metadata": {},
   "outputs": [
    {
     "data": {
      "image/png": "[encoded data removed]",
      "text/plain": [
       "<Figure size 432x288 with 1 Axes>"
      ]
     },
     "metadata": {
      "needs_background": "light"
     },
     "output_type": "display_data"
    }
   ],
   "source": [
    "sns.boxplot(y=data[\"duration_in_month\"], x=data[\"default\"], showmeans=True, data=data, fliersize=5)\n",
    "plt.title(\"Boxplot of column duration_in_month\")\n",
    "plt.show()"
   ]
  },
  {
   "cell_type": "code",
   "execution_count": 16,
   "metadata": {},
   "outputs": [
    {
     "data": {
      "image/png": "[encoded data removed]",
      "text/plain": [
       "<Figure size 432x288 with 1 Axes>"
      ]
     },
     "metadata": {
      "needs_background": "light"
     },
     "output_type": "display_data"
    }
   ],
   "source": [
    "plt.scatter(data[\"duration_in_month\"],data[\"credit_amount\"])\n",
    "plt.show()"
   ]
  },
  {
   "cell_type": "code",
   "execution_count": 17,
   "metadata": {},
   "outputs": [
    {
     "data": {
      "image/png": "[encoded data removed]",
      "text/plain": [
       "<Figure size 648x360 with 1 Axes>"
      ]
     },
     "metadata": {
      "needs_background": "light"
     },
     "output_type": "display_data"
    }
   ],
   "source": [
    "plt.figure(figsize=(9,5))\n",
    "sns.countplot(data.duration_in_month)\n",
    "plt.show()"
   ]
  },
  {
   "cell_type": "code",
   "execution_count": 18,
   "metadata": {},
   "outputs": [
    {
     "data": {
      "image/png": "[encoded data removed]",
      "text/plain": [
       "<Figure size 648x360 with 1 Axes>"
      ]
     },
     "metadata": {
      "needs_background": "light"
     },
     "output_type": "display_data"
    }
   ],
   "source": [
    "plt.figure(figsize=(9,5))\n",
    "plt.hist(data.duration_in_month)\n",
    "plt.title(\"duration_in_month\")\n",
    "plt.show()"
   ]
  },
  {
   "cell_type": "code",
   "execution_count": 19,
   "metadata": {},
   "outputs": [
    {
     "data": {
      "image/png": "[encoded data removed]",
      "text/plain": [
       "<Figure size 1080x360 with 1 Axes>"
      ]
     },
     "metadata": {
      "needs_background": "light"
     },
     "output_type": "display_data"
    }
   ],
   "source": [
    "plt.figure(figsize=(15,5))\n",
    "sns.countplot(x=\"credit_history\", hue=\"default\", data=data, palette=\"Set2\")\n",
    "plt.xticks(fontsize = 10,rotation=45)\n",
    "plt.savefig(\"Credit_History.jpg\")\n",
    "plt.show()"
   ]
  },
  {
   "cell_type": "code",
   "execution_count": 20,
   "metadata": {},
   "outputs": [
    {
     "data": {
      "image/png": "[encoded data removed]",
      "text/plain": [
       "<Figure size 1440x720 with 2 Axes>"
      ]
     },
     "metadata": {
      "needs_background": "light"
     },
     "output_type": "display_data"
    }
   ],
   "source": [
    "#Let's visualize correlations\n",
    "plt.figure(figsize=(20,10))\n",
    "sns.heatmap(data.corr().abs(),annot=True, cmap = \"bone\")\n",
    "plt.show()"
   ]
  },
  {
   "cell_type": "code",
   "execution_count": 21,
   "metadata": {},
   "outputs": [],
   "source": [
    "data_num=data.select_dtypes(exclude=\"object\")\n",
    "data_obj=data.select_dtypes(include=\"object\")"
   ]
  },
  {
   "cell_type": "code",
   "execution_count": 22,
   "metadata": {},
   "outputs": [],
   "source": [
    "data_dummies=pd.get_dummies(data_obj, prefix=data_obj.columns,drop_first=True)\n",
    "data=data_num.join(data_dummies)"
   ]
  },
  {
   "cell_type": "code",
   "execution_count": 23,
   "metadata": {},
   "outputs": [],
   "source": [
    "Y=data.default\n",
    "X=data.drop(\"default\",axis=1)"
   ]
  },
  {
   "cell_type": "code",
   "execution_count": 24,
   "metadata": {},
   "outputs": [],
   "source": [
    "X=pd.get_dummies(X, drop_first=True)"
   ]
  },
  {
   "cell_type": "code",
   "execution_count": 25,
   "metadata": {},
   "outputs": [
    {
     "data": {
      "text/plain": [
       "(1000, 49)"
      ]
     },
     "execution_count": 25,
     "metadata": {},
     "output_type": "execute_result"
    }
   ],
   "source": [
    "data.shape"
   ]
  },
  {
   "cell_type": "code",
   "execution_count": 26,
   "metadata": {},
   "outputs": [
    {
     "data": {
      "text/html": [
       "<div>\n",
       "<style scoped>\n",
       "    .dataframe tbody tr th:only-of-type {\n",
       "        vertical-align: middle;\n",
       "    }\n",
       "\n",
       "    .dataframe tbody tr th {\n",
       "        vertical-align: top;\n",
       "    }\n",
       "\n",
       "    .dataframe thead th {\n",
       "        text-align: right;\n",
       "    }\n",
       "</style>\n",
       "<table border=\"1\" class=\"dataframe\">\n",
       "  <thead>\n",
       "    <tr style=\"text-align: right;\">\n",
       "      <th></th>\n",
       "      <th>duration_in_month</th>\n",
       "      <th>credit_amount</th>\n",
       "      <th>installment_as_income_perc</th>\n",
       "      <th>present_res_since</th>\n",
       "      <th>age</th>\n",
       "      <th>credits_this_bank</th>\n",
       "      <th>people_under_maintenance</th>\n",
       "      <th>account_check_status_&lt; 0 DM</th>\n",
       "      <th>account_check_status_&gt;= 200 DM / salary assignments for at least 1 year</th>\n",
       "      <th>account_check_status_no checking account</th>\n",
       "      <th>...</th>\n",
       "      <th>property_unknown / no property</th>\n",
       "      <th>other_installment_plans_none</th>\n",
       "      <th>other_installment_plans_stores</th>\n",
       "      <th>housing_own</th>\n",
       "      <th>housing_rent</th>\n",
       "      <th>job_skilled employee / official</th>\n",
       "      <th>job_unemployed/ unskilled - non-resident</th>\n",
       "      <th>job_unskilled - resident</th>\n",
       "      <th>telephone_yes, registered under the customers name</th>\n",
       "      <th>foreign_worker_yes</th>\n",
       "    </tr>\n",
       "  </thead>\n",
       "  <tbody>\n",
       "    <tr>\n",
       "      <td>0</td>\n",
       "      <td>6</td>\n",
       "      <td>1169</td>\n",
       "      <td>4</td>\n",
       "      <td>4</td>\n",
       "      <td>67</td>\n",
       "      <td>2</td>\n",
       "      <td>1</td>\n",
       "      <td>1</td>\n",
       "      <td>0</td>\n",
       "      <td>0</td>\n",
       "      <td>...</td>\n",
       "      <td>0</td>\n",
       "      <td>1</td>\n",
       "      <td>0</td>\n",
       "      <td>1</td>\n",
       "      <td>0</td>\n",
       "      <td>1</td>\n",
       "      <td>0</td>\n",
       "      <td>0</td>\n",
       "      <td>1</td>\n",
       "      <td>1</td>\n",
       "    </tr>\n",
       "    <tr>\n",
       "      <td>1</td>\n",
       "      <td>48</td>\n",
       "      <td>5951</td>\n",
       "      <td>2</td>\n",
       "      <td>2</td>\n",
       "      <td>22</td>\n",
       "      <td>1</td>\n",
       "      <td>1</td>\n",
       "      <td>0</td>\n",
       "      <td>0</td>\n",
       "      <td>0</td>\n",
       "      <td>...</td>\n",
       "      <td>0</td>\n",
       "      <td>1</td>\n",
       "      <td>0</td>\n",
       "      <td>1</td>\n",
       "      <td>0</td>\n",
       "      <td>1</td>\n",
       "      <td>0</td>\n",
       "      <td>0</td>\n",
       "      <td>0</td>\n",
       "      <td>1</td>\n",
       "    </tr>\n",
       "    <tr>\n",
       "      <td>2</td>\n",
       "      <td>12</td>\n",
       "      <td>2096</td>\n",
       "      <td>2</td>\n",
       "      <td>3</td>\n",
       "      <td>49</td>\n",
       "      <td>1</td>\n",
       "      <td>2</td>\n",
       "      <td>0</td>\n",
       "      <td>0</td>\n",
       "      <td>1</td>\n",
       "      <td>...</td>\n",
       "      <td>0</td>\n",
       "      <td>1</td>\n",
       "      <td>0</td>\n",
       "      <td>1</td>\n",
       "      <td>0</td>\n",
       "      <td>0</td>\n",
       "      <td>0</td>\n",
       "      <td>1</td>\n",
       "      <td>0</td>\n",
       "      <td>1</td>\n",
       "    </tr>\n",
       "    <tr>\n",
       "      <td>3</td>\n",
       "      <td>42</td>\n",
       "      <td>7882</td>\n",
       "      <td>2</td>\n",
       "      <td>4</td>\n",
       "      <td>45</td>\n",
       "      <td>1</td>\n",
       "      <td>2</td>\n",
       "      <td>1</td>\n",
       "      <td>0</td>\n",
       "      <td>0</td>\n",
       "      <td>...</td>\n",
       "      <td>0</td>\n",
       "      <td>1</td>\n",
       "      <td>0</td>\n",
       "      <td>0</td>\n",
       "      <td>0</td>\n",
       "      <td>1</td>\n",
       "      <td>0</td>\n",
       "      <td>0</td>\n",
       "      <td>0</td>\n",
       "      <td>1</td>\n",
       "    </tr>\n",
       "    <tr>\n",
       "      <td>4</td>\n",
       "      <td>24</td>\n",
       "      <td>4870</td>\n",
       "      <td>3</td>\n",
       "      <td>4</td>\n",
       "      <td>53</td>\n",
       "      <td>2</td>\n",
       "      <td>2</td>\n",
       "      <td>1</td>\n",
       "      <td>0</td>\n",
       "      <td>0</td>\n",
       "      <td>...</td>\n",
       "      <td>1</td>\n",
       "      <td>1</td>\n",
       "      <td>0</td>\n",
       "      <td>0</td>\n",
       "      <td>0</td>\n",
       "      <td>1</td>\n",
       "      <td>0</td>\n",
       "      <td>0</td>\n",
       "      <td>0</td>\n",
       "      <td>1</td>\n",
       "    </tr>\n",
       "  </tbody>\n",
       "</table>\n",
       "<p>5 rows × 48 columns</p>\n",
       "</div>"
      ],
      "text/plain": [
       "   duration_in_month  credit_amount  installment_as_income_perc  \\\n",
       "0                  6           1169                           4   \n",
       "1                 48           5951                           2   \n",
       "2                 12           2096                           2   \n",
       "3                 42           7882                           2   \n",
       "4                 24           4870                           3   \n",
       "\n",
       "   present_res_since  age  credits_this_bank  people_under_maintenance  \\\n",
       "0                  4   67                  2                         1   \n",
       "1                  2   22                  1                         1   \n",
       "2                  3   49                  1                         2   \n",
       "3                  4   45                  1                         2   \n",
       "4                  4   53                  2                         2   \n",
       "\n",
       "   account_check_status_< 0 DM  \\\n",
       "0                            1   \n",
       "1                            0   \n",
       "2                            0   \n",
       "3                            1   \n",
       "4                            1   \n",
       "\n",
       "   account_check_status_>= 200 DM / salary assignments for at least 1 year  \\\n",
       "0                                                  0                         \n",
       "1                                                  0                         \n",
       "2                                                  0                         \n",
       "3                                                  0                         \n",
       "4                                                  0                         \n",
       "\n",
       "   account_check_status_no checking account  ...  \\\n",
       "0                                         0  ...   \n",
       "1                                         0  ...   \n",
       "2                                         1  ...   \n",
       "3                                         0  ...   \n",
       "4                                         0  ...   \n",
       "\n",
       "   property_unknown / no property  other_installment_plans_none  \\\n",
       "0                               0                             1   \n",
       "1                               0                             1   \n",
       "2                               0                             1   \n",
       "3                               0                             1   \n",
       "4                               1                             1   \n",
       "\n",
       "   other_installment_plans_stores  housing_own  housing_rent  \\\n",
       "0                               0            1             0   \n",
       "1                               0            1             0   \n",
       "2                               0            1             0   \n",
       "3                               0            0             0   \n",
       "4                               0            0             0   \n",
       "\n",
       "   job_skilled employee / official  job_unemployed/ unskilled - non-resident  \\\n",
       "0                                1                                         0   \n",
       "1                                1                                         0   \n",
       "2                                0                                         0   \n",
       "3                                1                                         0   \n",
       "4                                1                                         0   \n",
       "\n",
       "   job_unskilled - resident  \\\n",
       "0                         0   \n",
       "1                         0   \n",
       "2                         1   \n",
       "3                         0   \n",
       "4                         0   \n",
       "\n",
       "   telephone_yes, registered under the customers name   foreign_worker_yes  \n",
       "0                                                  1                     1  \n",
       "1                                                  0                     1  \n",
       "2                                                  0                     1  \n",
       "3                                                  0                     1  \n",
       "4                                                  0                     1  \n",
       "\n",
       "[5 rows x 48 columns]"
      ]
     },
     "execution_count": 26,
     "metadata": {},
     "output_type": "execute_result"
    }
   ],
   "source": [
    "X.head()"
   ]
  },
  {
   "cell_type": "code",
   "execution_count": 27,
   "metadata": {},
   "outputs": [],
   "source": [
    "X0, X1, Y0, Y1=train_test_split(X,Y, test_size=0.25, random_state=42)"
   ]
  },
  {
   "cell_type": "code",
   "execution_count": 28,
   "metadata": {},
   "outputs": [],
   "source": [
    "# scale the data \n",
    "scaler = StandardScaler()\n",
    "scaler.fit(X0)\n",
    "X0_scaled = pd.DataFrame(scaler.transform(X0), columns=X0.columns)\n",
    "X1_scaled = pd.DataFrame(scaler.transform(X1), columns=X1.columns)"
   ]
  },
  {
   "cell_type": "code",
   "execution_count": 29,
   "metadata": {},
   "outputs": [
    {
     "name": "stderr",
     "output_type": "stream",
     "text": [
      "/Users/apple/opt/anaconda3/lib/python3.7/site-packages/sklearn/linear_model/logistic.py:432: FutureWarning: Default solver will be changed to 'lbfgs' in 0.22. Specify a solver to silence this warning.\n",
      "  FutureWarning)\n"
     ]
    },
    {
     "data": {
      "text/plain": [
       "LogisticRegression(C=1.0, class_weight=None, dual=False, fit_intercept=True,\n",
       "                   intercept_scaling=1, l1_ratio=None, max_iter=100,\n",
       "                   multi_class='warn', n_jobs=None, penalty='l2',\n",
       "                   random_state=42, solver='warn', tol=0.0001, verbose=0,\n",
       "                   warm_start=False)"
      ]
     },
     "execution_count": 29,
     "metadata": {},
     "output_type": "execute_result"
    }
   ],
   "source": [
    "logit=LogisticRegression(random_state=42)\n",
    "logit.fit(X0_scaled,Y0)"
   ]
  },
  {
   "cell_type": "code",
   "execution_count": 30,
   "metadata": {},
   "outputs": [],
   "source": [
    "Y0_logit=logit.predict_proba(X0_scaled)[:,1]\n",
    "Y1_logit=logit.predict_proba(X1_scaled)[:,1]\n"
   ]
  },
  {
   "cell_type": "code",
   "execution_count": 31,
   "metadata": {},
   "outputs": [
    {
     "name": "stdout",
     "output_type": "stream",
     "text": [
      "Fitting 5 folds for each of 200 candidates, totalling 1000 fits\n"
     ]
    },
    {
     "name": "stderr",
     "output_type": "stream",
     "text": [
      "[Parallel(n_jobs=-1)]: Using backend LokyBackend with 4 concurrent workers.\n",
      "[Parallel(n_jobs=-1)]: Done  46 tasks      | elapsed:    7.1s\n",
      "[Parallel(n_jobs=-1)]: Done 640 tasks      | elapsed:   23.2s\n",
      "[Parallel(n_jobs=-1)]: Done 1000 out of 1000 | elapsed:   34.3s finished\n"
     ]
    }
   ],
   "source": [
    "#building GridSearch with Logistic Regression\n",
    "logit_1=LogisticRegression(random_state=42)\n",
    "\n",
    "param_logit = {'class_weight':[None, 'balanced'], 'C':np.linspace(1,10,20),\n",
    "              'solver':['newton-cg', 'lbfgs', 'liblinear', 'sag', 'saga']}\n",
    "\n",
    "gs_logit=GridSearchCV(estimator=logit_1, param_grid=param_logit,\n",
    "                      scoring=\"roc_auc\", cv=5, verbose=1, n_jobs=-1).fit(X0_scaled,Y0)"
   ]
  },
  {
   "cell_type": "code",
   "execution_count": 32,
   "metadata": {},
   "outputs": [
    {
     "name": "stdout",
     "output_type": "stream",
     "text": [
      "{'C': 1.0, 'class_weight': None, 'solver': 'liblinear'}\n"
     ]
    }
   ],
   "source": [
    "#finding out the best parameters\n",
    "best_params = gs_logit.best_params_\n",
    "print(best_params)"
   ]
  },
  {
   "cell_type": "code",
   "execution_count": 68,
   "metadata": {},
   "outputs": [
    {
     "name": "stdout",
     "output_type": "stream",
     "text": [
      "ROC_AUC Train for tuned Logit: 0.7113077233313168\n",
      "ROC_AUC Test for tuned Logit: 0.6812578027465669\n"
     ]
    }
   ],
   "source": [
    "print(\"ROC_AUC Train for tuned Logit:\",roc_auc_score(Y0,Y0_logit))\n",
    "print(\"ROC_AUC Test for tuned Logit:\",roc_auc_score(Y1,Y1_logit))"
   ]
  },
  {
   "cell_type": "code",
   "execution_count": 33,
   "metadata": {},
   "outputs": [],
   "source": [
    "#building logit with best params and seeing the results\n",
    "logit_grid=LogisticRegression(random_state=42, C=best_params['C'],\n",
    "                              solver=best_params['solver']).fit(X0,Y0)\n",
    "\n",
    "Y0_logit_grid=logit_grid.predict_proba(X0)[:,1]\n",
    "Y1_logit_grid=logit_grid.predict_proba(X1)[:,1]"
   ]
  },
  {
   "cell_type": "code",
   "execution_count": 34,
   "metadata": {},
   "outputs": [
    {
     "name": "stdout",
     "output_type": "stream",
     "text": [
      "ROC_AUC Train for tuned Logit: 0.8325351213282247\n",
      "ROC_AUC Test for tuned Logit: 0.8104712858926342\n"
     ]
    }
   ],
   "source": [
    "print(\"ROC_AUC Train for tuned Logit:\",roc_auc_score(Y0,Y0_logit))\n",
    "print(\"ROC_AUC Test for tuned Logit:\",roc_auc_score(Y1,Y1_logit))"
   ]
  },
  {
   "cell_type": "code",
   "execution_count": 35,
   "metadata": {
    "scrolled": true
   },
   "outputs": [
    {
     "name": "stdout",
     "output_type": "stream",
     "text": [
      "Logistic Regression Train:\n",
      "              precision    recall  f1-score   support\n",
      "\n",
      "           0       0.81      0.88      0.85       522\n",
      "           1       0.67      0.54      0.60       228\n",
      "\n",
      "    accuracy                           0.78       750\n",
      "   macro avg       0.74      0.71      0.72       750\n",
      "weighted avg       0.77      0.78      0.77       750\n",
      "\n",
      "Logistic Regression Test:\n",
      "              precision    recall  f1-score   support\n",
      "\n",
      "           0       0.81      0.88      0.84       178\n",
      "           1       0.61      0.49      0.54        72\n",
      "\n",
      "    accuracy                           0.76       250\n",
      "   macro avg       0.71      0.68      0.69       250\n",
      "weighted avg       0.75      0.76      0.76       250\n",
      "\n"
     ]
    }
   ],
   "source": [
    "#calculating using classification report\n",
    "print(\"Logistic Regression Train:\")\n",
    "print(classification_report(Y0,logit_grid.predict(X0)))\n",
    "\n",
    "print(\"Logistic Regression Test:\")\n",
    "print(classification_report(Y1,logit_grid.predict(X1)))"
   ]
  },
  {
   "cell_type": "code",
   "execution_count": 36,
   "metadata": {},
   "outputs": [
    {
     "name": "stdout",
     "output_type": "stream",
     "text": [
      "ROC_AUC Train: 0.7113077233313168\n",
      "ROC_AUC Test: 0.6812578027465669\n",
      "Accuracy Train: 0.7786666666666666\n",
      "Accuracy Test: 0.764\n",
      "Recall Train: 0.5394736842105263\n",
      "Recall Test: 0.4861111111111111\n"
     ]
    }
   ],
   "source": [
    "Y0_logit = np.where(Y0_logit_grid>0.5,1,0)\n",
    "Y1_logit = np.where(Y1_logit_grid>0.5,1,0)\n",
    "\n",
    "print(\"ROC_AUC Train:\",roc_auc_score(Y0,Y0_logit))\n",
    "print(\"ROC_AUC Test:\",roc_auc_score(Y1,Y1_logit))\n",
    "print(\"Accuracy Train:\",accuracy_score(Y0,Y0_logit))\n",
    "print(\"Accuracy Test:\",accuracy_score(Y1,Y1_logit))\n",
    "print(\"Recall Train:\",recall_score(Y0,Y0_logit))\n",
    "print(\"Recall Test:\",recall_score(Y1,Y1_logit))"
   ]
  },
  {
   "cell_type": "code",
   "execution_count": 37,
   "metadata": {},
   "outputs": [],
   "source": [
    "X_scaled = pd.DataFrame(scaler.transform(X), columns=X0.columns)\n"
   ]
  },
  {
   "cell_type": "code",
   "execution_count": 38,
   "metadata": {},
   "outputs": [
    {
     "name": "stdout",
     "output_type": "stream",
     "text": [
      "[0.77869048 0.78642857 0.80464286 0.76202381 0.79833333]\n"
     ]
    }
   ],
   "source": [
    "CV_scores = cross_val_score(estimator=logit_grid, X=X_scaled, y=Y, cv=5, scoring=\"roc_auc\")\n",
    "print(CV_scores)"
   ]
  },
  {
   "cell_type": "code",
   "execution_count": 39,
   "metadata": {},
   "outputs": [
    {
     "name": "stdout",
     "output_type": "stream",
     "text": [
      "Mean 5-fold ROC AUC score for Tuned Logit 0.7860238095238096\n"
     ]
    }
   ],
   "source": [
    "print(\"Mean 5-fold ROC AUC score for Tuned Logit\", np.mean(CV_scores))\n"
   ]
  },
  {
   "cell_type": "markdown",
   "metadata": {},
   "source": [
    "### DT"
   ]
  },
  {
   "cell_type": "code",
   "execution_count": 40,
   "metadata": {},
   "outputs": [
    {
     "data": {
      "text/plain": [
       "DecisionTreeClassifier(class_weight=None, criterion='gini', max_depth=None,\n",
       "                       max_features=None, max_leaf_nodes=None,\n",
       "                       min_impurity_decrease=0.0, min_impurity_split=None,\n",
       "                       min_samples_leaf=1, min_samples_split=2,\n",
       "                       min_weight_fraction_leaf=0.0, presort=False,\n",
       "                       random_state=42, splitter='best')"
      ]
     },
     "execution_count": 40,
     "metadata": {},
     "output_type": "execute_result"
    }
   ],
   "source": [
    "#building the model\n",
    "dt=DecisionTreeClassifier(random_state=42)\n",
    "dt.fit(X0,Y0)"
   ]
  },
  {
   "cell_type": "code",
   "execution_count": 41,
   "metadata": {},
   "outputs": [],
   "source": [
    "#calculating probabilities\n",
    "Y0_dt=dt.predict_proba(X0)[:,1]\n",
    "Y1_dt=dt.predict_proba(X1)[:,1]"
   ]
  },
  {
   "cell_type": "code",
   "execution_count": 42,
   "metadata": {},
   "outputs": [
    {
     "name": "stdout",
     "output_type": "stream",
     "text": [
      "ROC_AUC Train for Fully grown DT: 1.0\n",
      "ROC_AUC Test for Fully grown DT: 0.6460674157303371\n"
     ]
    }
   ],
   "source": [
    "#calculating roc auc score\n",
    "print(\"ROC_AUC Train for Fully grown DT:\",roc_auc_score(Y0,Y0_dt))\n",
    "print(\"ROC_AUC Test for Fully grown DT:\",roc_auc_score(Y1,Y1_dt))"
   ]
  },
  {
   "cell_type": "code",
   "execution_count": 64,
   "metadata": {},
   "outputs": [],
   "source": [
    "#setting 2 hyperparameter values manually\n",
    "dt1=DecisionTreeClassifier(random_state=42, max_depth=10,min_samples_leaf=90).fit(X0,Y0)"
   ]
  },
  {
   "cell_type": "code",
   "execution_count": 65,
   "metadata": {},
   "outputs": [],
   "source": [
    "#calculating probabilities\n",
    "Y0_dt1=dt1.predict_proba(X0)[:,1]\n",
    "Y1_dt1=dt1.predict_proba(X1)[:,1]"
   ]
  },
  {
   "cell_type": "code",
   "execution_count": 66,
   "metadata": {
    "scrolled": true
   },
   "outputs": [
    {
     "name": "stdout",
     "output_type": "stream",
     "text": [
      "ROC_AUC Train for Manually Tuned DT: 0.741173455669826\n",
      "ROC_AUC Test for Manually Tuned DT: 0.7369694132334582\n"
     ]
    }
   ],
   "source": [
    "#little bit lower ROC AUC scores however we achieved our goal of almost no overfitting\n",
    "print(\"ROC_AUC Train for Manually Tuned DT:\",roc_auc_score(Y0,Y0_dt1))\n",
    "print(\"ROC_AUC Test for Manually Tuned DT:\",roc_auc_score(Y1,Y1_dt1))"
   ]
  },
  {
   "cell_type": "code",
   "execution_count": 67,
   "metadata": {},
   "outputs": [],
   "source": [
    "#setting up the ranges for hyperparameters\n",
    "param_dt={\"max_depth\":range(1,9),\"min_samples_leaf\":range(10,100,10),\n",
    "          \"class_weight\":[\"balanced\", None]}"
   ]
  },
  {
   "cell_type": "code",
   "execution_count": 60,
   "metadata": {},
   "outputs": [
    {
     "data": {
      "text/plain": [
       "GridSearchCV(cv=5, error_score='raise-deprecating',\n",
       "             estimator=DecisionTreeClassifier(class_weight=None,\n",
       "                                              criterion='gini', max_depth=None,\n",
       "                                              max_features=None,\n",
       "                                              max_leaf_nodes=None,\n",
       "                                              min_impurity_decrease=0.0,\n",
       "                                              min_impurity_split=None,\n",
       "                                              min_samples_leaf=1,\n",
       "                                              min_samples_split=2,\n",
       "                                              min_weight_fraction_leaf=0.0,\n",
       "                                              presort=False, random_state=42,\n",
       "                                              splitter='best'),\n",
       "             iid='warn', n_jobs=-1,\n",
       "             param_grid={'class_weight': ['balanced', None],\n",
       "                         'max_depth': range(1, 9),\n",
       "                         'min_samples_leaf': range(10, 100, 10)},\n",
       "             pre_dispatch='2*n_jobs', refit=True, return_train_score=False,\n",
       "             scoring='roc_auc', verbose=0)"
      ]
     },
     "execution_count": 60,
     "metadata": {},
     "output_type": "execute_result"
    }
   ],
   "source": [
    "#Cross-Validated Gridsearch\n",
    "gs_dt=GridSearchCV(estimator=dt,param_grid=param_dt,scoring=\"roc_auc\",cv=5,n_jobs=-1)\n",
    "gs_dt.fit(X,Y)"
   ]
  },
  {
   "cell_type": "code",
   "execution_count": 61,
   "metadata": {},
   "outputs": [
    {
     "data": {
      "text/plain": [
       "{'class_weight': 'balanced', 'max_depth': 4, 'min_samples_leaf': 40}"
      ]
     },
     "execution_count": 61,
     "metadata": {},
     "output_type": "execute_result"
    }
   ],
   "source": [
    "#let's see the optimal parameters\n",
    "best_params = gs_dt.best_params_\n",
    "best_params"
   ]
  },
  {
   "cell_type": "code",
   "execution_count": 62,
   "metadata": {},
   "outputs": [],
   "source": [
    "#fitting the model with best parameters\n",
    "dt_grid=DecisionTreeClassifier(class_weight=best_params['class_weight'],max_depth=best_params['max_depth'],\n",
    "                             min_samples_leaf=best_params['min_samples_leaf'], random_state=42).fit(X0,Y0)\n",
    "\n",
    "#getting probabilities\n",
    "Y0_dt_grid=dt_grid.predict_proba(X0)[:,1]\n",
    "Y1_dt_grid=dt_grid.predict_proba(X1)[:,1]"
   ]
  },
  {
   "cell_type": "code",
   "execution_count": 63,
   "metadata": {},
   "outputs": [
    {
     "name": "stdout",
     "output_type": "stream",
     "text": [
      "ROC_AUC Train: 0.6945452712240371\n",
      "ROC_AUC Test: 0.6825062421972534\n",
      "Accuracy Train: 0.6573333333333333\n",
      "Accuracy Test: 0.648\n",
      "Recall Train: 0.7894736842105263\n",
      "Recall Test: 0.7638888888888888\n"
     ]
    }
   ],
   "source": [
    "Y0_dt_grid = np.where(Y0_dt_grid>0.5,1,0)\n",
    "Y1_dt_grid = np.where(Y1_dt_grid>0.5,1,0)\n",
    "\n",
    "print(\"ROC_AUC Train:\",roc_auc_score(Y0,Y0_dt_grid))\n",
    "print(\"ROC_AUC Test:\",roc_auc_score(Y1,Y1_dt_grid))\n",
    "print(\"Accuracy Train:\",accuracy_score(Y0,Y0_dt_grid))\n",
    "print(\"Accuracy Test:\",accuracy_score(Y1,Y1_dt_grid))\n",
    "print(\"Recall Train:\",recall_score(Y0,Y0_dt_grid))\n",
    "print(\"Recall Test:\",recall_score(Y1,Y1_dt_grid))"
   ]
  },
  {
   "cell_type": "code",
   "execution_count": 51,
   "metadata": {},
   "outputs": [
    {
     "name": "stdout",
     "output_type": "stream",
     "text": [
      "Mean 5-fold ROC AUC score for DT Tuned hyperparameters: 0.7295357142857143\n"
     ]
    }
   ],
   "source": [
    "#Mean cross val score for model with default hyperparameters\n",
    "print(\"Mean 5-fold ROC AUC score for DT Tuned hyperparameters:\",np.mean(cross_val_score(estimator=dt_grid, X=X,y=Y,cv=5, scoring=\"roc_auc\")))"
   ]
  },
  {
   "cell_type": "code",
   "execution_count": 52,
   "metadata": {},
   "outputs": [
    {
     "data": {
      "text/plain": [
       "array([0.10771975, 0.01637536, 0.01483252, 0.        , 0.07566662,\n",
       "       0.        , 0.        , 0.        , 0.        , 0.54020061,\n",
       "       0.07132854, 0.        , 0.        , 0.        , 0.        ,\n",
       "       0.05417203, 0.        , 0.        , 0.        , 0.        ,\n",
       "       0.        , 0.        , 0.        , 0.04677711, 0.        ,\n",
       "       0.        , 0.        , 0.        , 0.        , 0.        ,\n",
       "       0.        , 0.        , 0.        , 0.        , 0.        ,\n",
       "       0.        , 0.        , 0.        , 0.        , 0.07292745,\n",
       "       0.        , 0.        , 0.        , 0.        , 0.        ,\n",
       "       0.        , 0.        , 0.        ])"
      ]
     },
     "execution_count": 52,
     "metadata": {},
     "output_type": "execute_result"
    }
   ],
   "source": [
    "#property returning feature importances as array\n",
    "dt_grid.feature_importances_"
   ]
  },
  {
   "cell_type": "code",
   "execution_count": 53,
   "metadata": {},
   "outputs": [
    {
     "data": {
      "text/html": [
       "<div>\n",
       "<style scoped>\n",
       "    .dataframe tbody tr th:only-of-type {\n",
       "        vertical-align: middle;\n",
       "    }\n",
       "\n",
       "    .dataframe tbody tr th {\n",
       "        vertical-align: top;\n",
       "    }\n",
       "\n",
       "    .dataframe thead th {\n",
       "        text-align: right;\n",
       "    }\n",
       "</style>\n",
       "<table border=\"1\" class=\"dataframe\">\n",
       "  <thead>\n",
       "    <tr style=\"text-align: right;\">\n",
       "      <th></th>\n",
       "      <th>Feature_imp</th>\n",
       "    </tr>\n",
       "  </thead>\n",
       "  <tbody>\n",
       "    <tr>\n",
       "      <td>account_check_status_no checking account</td>\n",
       "      <td>0.540201</td>\n",
       "    </tr>\n",
       "    <tr>\n",
       "      <td>duration_in_month</td>\n",
       "      <td>0.107720</td>\n",
       "    </tr>\n",
       "    <tr>\n",
       "      <td>age</td>\n",
       "      <td>0.075667</td>\n",
       "    </tr>\n",
       "    <tr>\n",
       "      <td>other_installment_plans_none</td>\n",
       "      <td>0.072927</td>\n",
       "    </tr>\n",
       "    <tr>\n",
       "      <td>credit_history_critical account/ other credits existing (not at this bank)</td>\n",
       "      <td>0.071329</td>\n",
       "    </tr>\n",
       "    <tr>\n",
       "      <td>purpose_car (new)</td>\n",
       "      <td>0.054172</td>\n",
       "    </tr>\n",
       "    <tr>\n",
       "      <td>savings_... &lt; 100 DM</td>\n",
       "      <td>0.046777</td>\n",
       "    </tr>\n",
       "    <tr>\n",
       "      <td>credit_amount</td>\n",
       "      <td>0.016375</td>\n",
       "    </tr>\n",
       "    <tr>\n",
       "      <td>installment_as_income_perc</td>\n",
       "      <td>0.014833</td>\n",
       "    </tr>\n",
       "    <tr>\n",
       "      <td>property_if not A121/A122 : car or other, not in attribute 6</td>\n",
       "      <td>0.000000</td>\n",
       "    </tr>\n",
       "    <tr>\n",
       "      <td>present_emp_since_unemployed</td>\n",
       "      <td>0.000000</td>\n",
       "    </tr>\n",
       "    <tr>\n",
       "      <td>personal_status_sex_male : divorced/separated</td>\n",
       "      <td>0.000000</td>\n",
       "    </tr>\n",
       "    <tr>\n",
       "      <td>personal_status_sex_male : married/widowed</td>\n",
       "      <td>0.000000</td>\n",
       "    </tr>\n",
       "    <tr>\n",
       "      <td>personal_status_sex_male : single</td>\n",
       "      <td>0.000000</td>\n",
       "    </tr>\n",
       "    <tr>\n",
       "      <td>other_debtors_guarantor</td>\n",
       "      <td>0.000000</td>\n",
       "    </tr>\n",
       "    <tr>\n",
       "      <td>other_debtors_none</td>\n",
       "      <td>0.000000</td>\n",
       "    </tr>\n",
       "    <tr>\n",
       "      <td>telephone_yes, registered under the customers name</td>\n",
       "      <td>0.000000</td>\n",
       "    </tr>\n",
       "    <tr>\n",
       "      <td>property_real estate</td>\n",
       "      <td>0.000000</td>\n",
       "    </tr>\n",
       "    <tr>\n",
       "      <td>job_unskilled - resident</td>\n",
       "      <td>0.000000</td>\n",
       "    </tr>\n",
       "    <tr>\n",
       "      <td>property_unknown / no property</td>\n",
       "      <td>0.000000</td>\n",
       "    </tr>\n",
       "  </tbody>\n",
       "</table>\n",
       "</div>"
      ],
      "text/plain": [
       "                                                    Feature_imp\n",
       "account_check_status_no checking account               0.540201\n",
       "duration_in_month                                      0.107720\n",
       "age                                                    0.075667\n",
       "other_installment_plans_none                           0.072927\n",
       "credit_history_critical account/ other credits ...     0.071329\n",
       "purpose_car (new)                                      0.054172\n",
       "savings_... < 100 DM                                   0.046777\n",
       "credit_amount                                          0.016375\n",
       "installment_as_income_perc                             0.014833\n",
       "property_if not A121/A122 : car or other, not i...     0.000000\n",
       "present_emp_since_unemployed                           0.000000\n",
       "personal_status_sex_male : divorced/separated          0.000000\n",
       "personal_status_sex_male : married/widowed             0.000000\n",
       "personal_status_sex_male : single                      0.000000\n",
       "other_debtors_guarantor                                0.000000\n",
       "other_debtors_none                                     0.000000\n",
       "telephone_yes, registered under the customers n...     0.000000\n",
       "property_real estate                                   0.000000\n",
       "job_unskilled - resident                               0.000000\n",
       "property_unknown / no property                         0.000000"
      ]
     },
     "execution_count": 53,
     "metadata": {},
     "output_type": "execute_result"
    }
   ],
   "source": [
    "#making a dataframe for convenient usage\n",
    "feat_imp=pd.DataFrame(dt_grid.feature_importances_,index=X.columns,\n",
    "                      columns=[\"Feature_imp\"])\n",
    "feat_imp=feat_imp.sort_values(by=\"Feature_imp\",ascending=False)\n",
    "feat_imp.head(20)"
   ]
  },
  {
   "cell_type": "code",
   "execution_count": 54,
   "metadata": {},
   "outputs": [
    {
     "data": {
      "image/png": "[encoded data removed]",
      "text/plain": [
       "<Figure size 432x288 with 1 Axes>"
      ]
     },
     "metadata": {
      "needs_background": "light"
     },
     "output_type": "display_data"
    }
   ],
   "source": [
    "#visualizing feature importances\n",
    "feat_imp.head(10).sort_values('Feature_imp').plot.barh()\n",
    "plt.title(\"Most important features\")\n",
    "plt.show()"
   ]
  },
  {
   "cell_type": "code",
   "execution_count": 55,
   "metadata": {},
   "outputs": [
    {
     "name": "stdout",
     "output_type": "stream",
     "text": [
      "Index(['property_if not A121/A122 : car or other, not in attribute 6',\n",
      "       'present_emp_since_unemployed',\n",
      "       'personal_status_sex_male : divorced/separated',\n",
      "       'personal_status_sex_male : married/widowed',\n",
      "       'personal_status_sex_male : single', 'other_debtors_guarantor',\n",
      "       'other_debtors_none',\n",
      "       'telephone_yes, registered under the customers name ',\n",
      "       'property_real estate', 'job_unskilled - resident',\n",
      "       'property_unknown / no property',\n",
      "       'present_emp_since_1 <= ... < 4 years',\n",
      "       'other_installment_plans_stores', 'housing_own', 'housing_rent',\n",
      "       'job_skilled employee / official',\n",
      "       'job_unemployed/ unskilled - non-resident',\n",
      "       'present_emp_since_4 <= ... < 7 years', 'savings_100 <= ... < 500 DM',\n",
      "       'present_emp_since_... < 1 year ',\n",
      "       'savings_unknown/ no savings account', 'present_res_since',\n",
      "       'credits_this_bank', 'people_under_maintenance',\n",
      "       'account_check_status_< 0 DM',\n",
      "       'account_check_status_>= 200 DM / salary assignments for at least 1 year',\n",
      "       'credit_history_delay in paying off in the past',\n",
      "       'credit_history_existing credits paid back duly till now',\n",
      "       'credit_history_no credits taken/ all credits paid back duly',\n",
      "       'purpose_business', 'purpose_car (used)', 'purpose_domestic appliances',\n",
      "       'purpose_education', 'purpose_furniture/equipment',\n",
      "       'purpose_radio/television', 'purpose_repairs', 'purpose_retraining',\n",
      "       'savings_500 <= ... < 1000 DM ', 'foreign_worker_yes'],\n",
      "      dtype='object')\n"
     ]
    }
   ],
   "source": [
    "#removing columns with 0 importance meaning that the tree was not splitted with those features\n",
    "to_remove = feat_imp[feat_imp.Feature_imp==0].index\n",
    "print(to_remove)"
   ]
  },
  {
   "cell_type": "code",
   "execution_count": 56,
   "metadata": {},
   "outputs": [],
   "source": [
    "#fitting the tree with best hyperparameters after removing 0 importtance columns\n",
    "dt_grid1=DecisionTreeClassifier(class_weight=best_params['class_weight'],max_depth=best_params['max_depth'],\n",
    "                             min_samples_leaf=best_params['min_samples_leaf'], random_state=42).fit(X0.drop(to_remove,axis=1),Y0)\n",
    "\n",
    "Y0_dt_grid1=dt_grid1.predict_proba(X0.drop(to_remove,axis=1))[:,1]\n",
    "Y1_dt_grid1=dt_grid1.predict_proba(X1.drop(to_remove,axis=1))[:,1]"
   ]
  },
  {
   "cell_type": "code",
   "execution_count": 57,
   "metadata": {},
   "outputs": [
    {
     "name": "stdout",
     "output_type": "stream",
     "text": [
      "ROC_AUC Train: 0.7737405054782551\n",
      "ROC_AUC Test: 0.7330680399500624\n"
     ]
    }
   ],
   "source": [
    "print(\"ROC_AUC Train:\",roc_auc_score(Y0,Y0_dt_grid1))\n",
    "print(\"ROC_AUC Test:\",roc_auc_score(Y1,Y1_dt_grid1))"
   ]
  },
  {
   "cell_type": "code",
   "execution_count": null,
   "metadata": {},
   "outputs": [],
   "source": []
  }
 ],
 "metadata": {
  "kernelspec": {
   "display_name": "Python 3",
   "language": "python",
   "name": "python3"
  },
  "language_info": {
   "codemirror_mode": {
    "name": "ipython",
    "version": 3
   },
   "file_extension": ".py",
   "mimetype": "text/x-python",
   "name": "python",
   "nbconvert_exporter": "python",
   "pygments_lexer": "ipython3",
   "version": "3.7.3"
  }
 },
 "nbformat": 4,
 "nbformat_minor": 2
}
